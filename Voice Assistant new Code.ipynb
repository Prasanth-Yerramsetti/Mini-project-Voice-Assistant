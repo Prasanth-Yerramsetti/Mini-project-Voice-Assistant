{
 "cells": [
  {
   "cell_type": "code",
   "execution_count": 1,
   "id": "2591c4cd",
   "metadata": {},
   "outputs": [],
   "source": [
    "import speech_recognition as sr\n",
    "import pyttsx3\n",
    "import pywhatkit\n",
    "import datetime\n",
    "import wikipedia\n",
    "import pyjokes\n",
    "import webbrowser\n",
    "import subprocess\n",
    "from ecapture import ecapture as ec\n",
    "import os\n",
    "from tkinter import *\n",
    "import keyboard"
   ]
  },
  {
   "cell_type": "code",
   "execution_count": 2,
   "id": "afa8b0df",
   "metadata": {},
   "outputs": [],
   "source": [
    "listener = sr.Recognizer()\n",
    "engine = pyttsx3.init()\n",
    "voices = engine.getProperty('voices')\n",
    "engine.setProperty('voice', voices[1].id)"
   ]
  },
  {
   "cell_type": "code",
   "execution_count": 3,
   "id": "4d13ff29",
   "metadata": {},
   "outputs": [],
   "source": [
    "def talk(text):\n",
    "    engine.say(text)\n",
    "    engine.runAndWait()"
   ]
  },
  {
   "cell_type": "code",
   "execution_count": 4,
   "id": "712f5438",
   "metadata": {},
   "outputs": [],
   "source": [
    "def wishMe():\n",
    "    hour = int(datetime.datetime.now().hour)\n",
    "    if hour>= 0 and hour<12:\n",
    "        talk(\"Good Morning Sir !\")\n",
    "  \n",
    "    elif hour>= 12 and hour<18:\n",
    "        talk(\"Good Afternoon Sir !\")  \n",
    "  \n",
    "    else:\n",
    "        talk(\"Good Evening Sir !\") \n",
    "  \n",
    "    talk(\"I am your Personal Voice Assistant\")"
   ]
  },
  {
   "cell_type": "code",
   "execution_count": 5,
   "id": "188943fe",
   "metadata": {},
   "outputs": [],
   "source": [
    "def take_command():\n",
    "    try:\n",
    "        with sr.Microphone() as source:\n",
    "            print('listening...')\n",
    "            voice = listener.listen(source)\n",
    "            command = listener.recognize_google(voice)\n",
    "            print(\"user said : \",command)\n",
    "            command = command.lower()\n",
    "            if 'alexa' in command:\n",
    "                command = command.replace('alexa', '')\n",
    "                print(command)\n",
    "        return command\n",
    "    except Exception as e:\n",
    "        print(e)   \n",
    "        print(\"Unable to Recognize your voice.\")\n",
    "        return \"None\""
   ]
  },
  {
   "cell_type": "code",
   "execution_count": 6,
   "id": "d1dccefb",
   "metadata": {},
   "outputs": [],
   "source": [
    "def date1():\n",
    "    now = datetime.datetime.now()\n",
    "    my_date = datetime.datetime.today()\n",
    "\n",
    "    month_name = now.month\n",
    "    day_name = now.day\n",
    "    month_names = ['January', 'February', 'March', 'April', 'May', 'June', 'July', 'August', 'September', 'October', 'November', 'December']\n",
    "    ordinalnames = [ '1st', '2nd', '3rd', ' 4th', '5th', '6th', '7th', '8th', '9th', '10th', '11th', '12th', '13th', '14th', '15th', '16th', '17th', '18th', '19th', '20th', '21st', '22nd', '23rd','24rd', '25th', '26th', '27th', '28th', '29th', '30th', '31st'] \n",
    "    \n",
    "\n",
    "    speak(\"Today is \"+ month_names[month_name-1] +\" \" + ordinalnames[day_name-1] + '.')"
   ]
  },
  {
   "cell_type": "code",
   "execution_count": 7,
   "id": "968ae19d",
   "metadata": {},
   "outputs": [],
   "source": [
    "def run_alexa():\n",
    "    clear = lambda: os.system('cls')\n",
    "    clear()\n",
    "    command = take_command()\n",
    "    if command is not None:\n",
    "        if 'play' in command:\n",
    "            song = command.replace('play', '')\n",
    "            talk('playing ' + song)\n",
    "            pywhatkit.playonyt(song)\n",
    "        elif 'time' in command:\n",
    "            time = datetime.datetime.now().strftime('%I:%M %p')\n",
    "            talk('Current time is ' + time)\n",
    "        elif 'who the heck is' in command:\n",
    "            person = command.replace('who the heck is', '')\n",
    "            info = wikipedia.summary(person, 1)\n",
    "            print(info)\n",
    "            talk(info)\n",
    "        elif 'date' in command:\n",
    "            date1()\n",
    "        elif 'are you single' in command:\n",
    "            talk('I am in a relationship with wifi')\n",
    "        elif 'joke' in command:\n",
    "            talk(pyjokes.get_joke())\n",
    "        elif 'wikipedia' in command:\n",
    "            talk('Searching Wikipedia...')\n",
    "            query = command.replace(\"wikipedia\", \"\")\n",
    "            results = wikipedia.summary(query, sentences = 3)\n",
    "            talk(\"According to Wikipedia\")\n",
    "            print(results)\n",
    "            talk(results)\n",
    "        elif 'open youtube' in command:\n",
    "            talk(\"Opening Youtube.com \\n\")\n",
    "            webbrowser.open(\"youtube.com\")\n",
    "        elif 'open google' in command:\n",
    "            talk(\"Opening Google.com\\n\")\n",
    "            webbrowser.open(\"google.com\")\n",
    "        elif 'send a mail' in command:\n",
    "            try:\n",
    "                talk(\"What should I say?\")\n",
    "                content = takeCommand()\n",
    "                talk(\"whome should i send\")\n",
    "                to = input()   \n",
    "                sendEmail(to, content)\n",
    "                talk(\"Email has been sent !\")\n",
    "            except Exception as e:\n",
    "                print(e)\n",
    "                talk(\"I am not able to send this email\")\n",
    "        elif 'how are you' in command:\n",
    "            talk(\"I am fine, Thank you\")\n",
    "            talk(\"How are you, Sir\")\n",
    "        elif 'fine' in command or \"good\" in command:\n",
    "            talk(\"It's good to know that your fine\")\n",
    "        elif \"what's your name\" in command or \"What is your name\" in command:\n",
    "            talk(\"Iam Virtual Assistant\")\n",
    "        elif 'exit' in command:\n",
    "            talk(\"Exiting From Program\")\n",
    "            exit()\n",
    "        elif 'search' in command or 'play' in command: \n",
    "            query = command.replace(\"search\", \"\")\n",
    "            query = command.replace(\"play\", \"\")         \n",
    "            webbrowser.open(query)\n",
    "        elif \"who i am\" in command:\n",
    "            talk(\"You are a Human\")\n",
    "        elif 'shutdown system' in command:\n",
    "                talk(\"Shutting Down Your System\")\n",
    "                subprocess.call('shutdown / p /f')\n",
    "        elif \"camera\" in command or \"take a photo\" in command:\n",
    "            ec.capture(0, \"Jarvis Camera \", \"img.jpg\")\n",
    "        elif \"restart\" in command:\n",
    "            subprocess.call([\"shutdown\", \"/r\"])\n",
    "             \n",
    "        elif \"hibernate\" in command or \"sleep\" in command:\n",
    "            talk(\"Hibernating\")\n",
    "            subprocess.call(\"shutdown / h\")\n",
    "        elif \"write a note\" in command or \"take a note\" in command:\n",
    "            talk(\"What should i write, sir\")\n",
    "            note = take_command()\n",
    "            file = open('jarvis.txt', 'w')\n",
    "            file.write(note)\n",
    "            talk(\"note is written Sucessfully\")\n",
    "        elif \"show note\" in command:\n",
    "            talk(\"Showing Notes\")\n",
    "            file = open(\"jarvis.txt\", \"r\")\n",
    "            print(file.read())\n",
    "            talk(file.read(6))\n",
    "        elif \"wikipedia\" in command:\n",
    "            webbrowser.open(\"wikipedia.com\")\n",
    "        elif 'open gmail' in command:\n",
    "            webbrowser.open_new_tab(\"mail.google.com\")\n",
    "            talk(\"Google Mail open now\")\n",
    "        else:\n",
    "            talk('Please say the command again.')\n"
   ]
  },
  {
   "cell_type": "code",
   "execution_count": null,
   "id": "7cbc471a",
   "metadata": {},
   "outputs": [
    {
     "name": "stdout",
     "output_type": "stream",
     "text": [
      "listening...\n"
     ]
    }
   ],
   "source": [
    "wishMe()\n",
    "while True:\n",
    "    try:\n",
    "        run_alexa()\n",
    "    except KeyboardInterrupt:\n",
    "        print(\"Exiting from Program\")\n",
    "        talk(\"Exited !\")\n",
    "        pass"
   ]
  },
  {
   "cell_type": "code",
   "execution_count": 27,
   "id": "1531a89a",
   "metadata": {},
   "outputs": [],
   "source": [
    "def change_name():\n",
    "     pass\n",
    "\n",
    "def change():\n",
    "     pass\n",
    "\n",
    "def info():\n",
    "     pass\n",
    "def main_screen():\n",
    "\n",
    "      global screen\n",
    "      screen = Tk()\n",
    "      screen.title(\"Prasanth\")\n",
    "      screen.geometry(\"100x250\")\n",
    "      screen.iconbitmap(r\"C:\\Users\\prasanth\\Desktop\\A-GUI-Virtual-Assistant-with-python-main\\app_icon.ico\")\n",
    "\n",
    "\n",
    "      name_label = Label(text = \"Prasanth\",width = 300, bg = \"black\", fg=\"white\", font = (\"Calibri\", 13))\n",
    "      name_label.pack()\n",
    "\n",
    "\n",
    "      microphone_photo = PhotoImage(file = r\"C:\\Users\\prasanth\\Desktop\\A-GUI-Virtual-Assistant-with-python-main\\assistant_logo.png\")\n",
    "      microphone_button = Button(image=microphone_photo, command = run_alexa)\n",
    "      microphone_button.pack(pady=10)\n",
    "\n",
    "      settings_photo = PhotoImage(file = r\"C:\\Users\\prasanth\\Desktop\\A-GUI-Virtual-Assistant-with-python-main\\settings.png\")\n",
    "       \n",
    "      info_button = Button(text =\"Info\", command = info)\n",
    "      info_button.pack(pady=10)\n",
    "\n",
    "      screen.mainloop()"
   ]
  },
  {
   "cell_type": "code",
   "execution_count": 13,
   "id": "432ea76b",
   "metadata": {},
   "outputs": [
    {
     "name": "stdout",
     "output_type": "stream",
     "text": [
      "listening...\n",
      "\n",
      "Unable to Recognize your voice.\n"
     ]
    },
    {
     "data": {
      "text/plain": [
       "<function keyboard.add_hotkey.<locals>.remove_()>"
      ]
     },
     "execution_count": 13,
     "metadata": {},
     "output_type": "execute_result"
    }
   ],
   "source": [
    "keyboard.add_hotkey(\"F4\", run_alexa())"
   ]
  },
  {
   "cell_type": "code",
   "execution_count": null,
   "id": "f82ddb2a",
   "metadata": {},
   "outputs": [
    {
     "name": "stdout",
     "output_type": "stream",
     "text": [
      "listening...\n",
      "\n",
      "Unable to Recognize your voice.\n",
      "listening...\n",
      "\n",
      "Unable to Recognize your voice.\n",
      "listening...\n"
     ]
    }
   ],
   "source": [
    "main_screen()"
   ]
  },
  {
   "cell_type": "code",
   "execution_count": null,
   "id": "21a2f5e9",
   "metadata": {},
   "outputs": [],
   "source": []
  }
 ],
 "metadata": {
  "kernelspec": {
   "display_name": "Python 3 (ipykernel)",
   "language": "python",
   "name": "python3"
  },
  "language_info": {
   "codemirror_mode": {
    "name": "ipython",
    "version": 3
   },
   "file_extension": ".py",
   "mimetype": "text/x-python",
   "name": "python",
   "nbconvert_exporter": "python",
   "pygments_lexer": "ipython3",
   "version": "3.11.0"
  }
 },
 "nbformat": 4,
 "nbformat_minor": 5
}
